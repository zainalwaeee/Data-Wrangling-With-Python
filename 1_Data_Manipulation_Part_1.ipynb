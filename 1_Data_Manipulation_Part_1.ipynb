{
  "nbformat": 4,
  "nbformat_minor": 0,
  "metadata": {
    "colab": {
      "provenance": []
    },
    "kernelspec": {
      "name": "python3",
      "display_name": "Python 3"
    },
    "language_info": {
      "name": "python"
    }
  },
  "cells": [
    {
      "cell_type": "code",
      "execution_count": null,
      "metadata": {
        "id": "wqfD-EFWHr2u"
      },
      "outputs": [],
      "source": []
    },
    {
      "cell_type": "markdown",
      "source": [
        "# **A. Manipulasi Data Dengan Python Panda**"
      ],
      "metadata": {
        "id": "jQMyqg-wLHFl"
      }
    },
    {
      "cell_type": "markdown",
      "source": [
        "# **1.Memanggil Library Pandas**\n",
        "\n",
        "**Pandas** adalah library python open source yang biasanya digunakan untuk kebutuhan data analisis. Pandas membuat Python supaya dapat bekerja dengan data yang berbentuk tabular seperti spreadsheet dengan cara pemuatan data yang cepat, manipulasi data, menggabungkan data, serta ada berbagai fungsi yang lain.\n",
        "\n",
        "Pertama-tama, harus di import dulu Pandas library di Python script yang telah tersedia.\n",
        "\n",
        "\n",
        "***Kode Program 1.1***\n",
        "\n",
        "```javascript\n",
        "import pandas as pd\n",
        "```\n",
        "\n",
        "biasanya ketika menggunakan library Pandas, library Numpy juga di-import, sehingga menjadi:\n",
        "\n",
        "***Kode Program 1.2***\n",
        "\n",
        "```javascript\n",
        "import pandas as pd\n",
        "import numpy as np\n",
        "```\n",
        "\n",
        "**Tugas praktek:**\n",
        "\n",
        "Pada cell editor dibawah ini lakukan pengimporan library pandas dan juga library numpy seperti pada *Kode Program 1.2*"
      ],
      "metadata": {
        "id": "EOLewWJFLkCq"
      }
    },
    {
      "cell_type": "code",
      "source": [
        "#Kode Program 1.2\n"
      ],
      "metadata": {
        "id": "ueHiSRb8NFKY"
      },
      "execution_count": null,
      "outputs": []
    },
    {
      "cell_type": "markdown",
      "source": [
        "# **2. DataFrame & Series**\n",
        "\n",
        "Di Pandas terdapat 2 kelas data baru yang digunakan sebagai struktur dari spreadsheet:\n",
        "\n",
        "**Series:**\n",
        "\n",
        "satu kolom bagian dari tabel dataframe yang merupakan 1 dimensional numpy array sebagai basis datanya, terdiri dari 1 tipe data (integer, string, float, dll).\n",
        "\n",
        "```javascript\n",
        "import pandas as pd\n",
        "\n",
        "//Series\n",
        "\n",
        "number_list = pd.Series([1,2,3,4,5])\n",
        "print(\"Series:\")\n",
        "print(number_list)\n",
        "```\n",
        "\n",
        "**DataFrame:**\n",
        "\n",
        "gabungan dari Series, berbentuk rectangular data yang merupakan tabel spreadsheet itu sendiri (karena dibentuk dari banyak Series, tiap Series biasanya punya 1 tipe data, yang artinya 1 dataframe bisa memiliki banyak tipe data).\n",
        "\n",
        "\n",
        "```javascript\n",
        "import pandas as pd\n",
        "\n",
        "// DataFrame\n",
        "matrix = [[1,2,3],\n",
        "          ['a', 'b','c'],\n",
        "          [3,4,5],\n",
        "          ['d',4,6]]\n",
        "matrix_list = pd.DataFrame(matrix)\n",
        "print(\"DataFrame:\")\n",
        "print(matrix_list)\n",
        "```\n",
        "\n",
        "**Tugas praktek:**\n",
        "\n",
        "Pada cell editor dibawah ini lengkapilah kode dibawah ini untuk menerapkan library *pandas* dan *series*"
      ],
      "metadata": {
        "id": "Pe5eVOVPNVUX"
      }
    },
    {
      "cell_type": "code",
      "source": [
        "import ___ as ___\n",
        "# Series\n",
        "number_list = ___\n",
        "print(\"Series:\")\n",
        "print(___)\n",
        "# DataFrame\n",
        "matrix = [[___],\n",
        "          [___],\n",
        "          [___],\n",
        "          [___]]\n",
        "matrix_list = ___\n",
        "print(\"DataFrame:\")\n",
        "print(___)"
      ],
      "metadata": {
        "id": "oa1Njgm0QO9G"
      },
      "execution_count": null,
      "outputs": []
    },
    {
      "cell_type": "markdown",
      "source": [
        "## **3. Atribut DataFrame & Series - Bagian 1**\n",
        "\n",
        "**Dataframe** dan **Series** memiliki sangat banyak atribut yang digunakan untuk transformasi data, tetapi ada beberapa attribute yang sering dipakai. Di sini series number_list dan dataframe matrix_list pada subbab sebelumnya digunakan kembali.\n",
        "\n",
        "\n",
        "### **a. Method .info()**\n",
        "\n",
        "Method *.info()* digunakan untuk mengecek kolom apa yang membentuk dataframe itu, data types, berapa yang non null, dll. Method ini tidak dapat digunakan pada series, hanya pada dataframe saja.\n",
        "\n",
        "\n",
        "\n",
        "```python\n",
        "print(\"[1] method .info()\")\n",
        "print(matrix_list.info())\n",
        "```\n",
        "\n",
        "\n",
        "### **b. Attribute .shape**\n",
        "\n",
        "Attribute .shape digunakan untuk mengetahui berapa baris dan kolom, hasilnya dalam format tuple (baris, kolom).\n",
        "\n",
        "\n",
        "\n",
        "```python\n",
        "# [2] attribute .shape\n",
        "print(\"\\n[2] attribute .shape\")\n",
        "print(\"    Shape dari number_list:\", number_list.shape)\n",
        "```\n",
        "\n",
        "\n",
        "\n",
        "### **c. Attribute .dtypes**\n",
        "\n",
        "Attribute .dtypes digunakan untuk mengetahui tipe data di tiap kolom. Tipe data object: kombinasi untuk berbagai tipe data (number & text, etc).\n",
        "\n",
        "```python\n",
        "# [3] attribute .dtypes\n",
        "print(\"\\n[3] attribute .dtypes\")\n",
        "print(\"    Tipe data number_list:\", number_list.dtypes)\n",
        "print(\"    Tipe data matrix_list:\", matrix_list.dtypes)\n",
        "```\n",
        "\n",
        "### **d. Method .astype(nama_tipe_data)**\n",
        "\n",
        "Method .astype(nama_tipe_data) untuk convert tipe data berdasarkan tipe data seperti: float, int, str, numpy.float, numpy.int ataupun numpy.datetime.\n",
        "\n",
        "```python\n",
        "# [4] attribute .astype()\n",
        "print(\"\\n[4] method .astype()\")\n",
        "print(\"    Konversi number_list ke str:\", number_list.astype(\"str\"))\n",
        "print(\"    Konversi matrix_list ke str:\", matrix_list.astype(\"str\"))\n",
        "```\n",
        "\n",
        "\n",
        "**Tugas praktek:**\n",
        "\n",
        "Sesuaikan tanda _ _ _ pada cell editor sesuai penggunaan seperti yang diberikan pada contoh di atas."
      ],
      "metadata": {
        "id": "h-QlJUrZSDDo"
      }
    },
    {
      "cell_type": "code",
      "source": [
        "import pandas as pd\n",
        "# Series\n",
        "number_list = pd.Series([1,2,3,4,5,6])\n",
        "# DataFrame\n",
        "matrix_list = pd.DataFrame([[1,2,3],\n",
        "\t\t\t\t            ['a','b','c'],\n",
        "\t\t\t\t            [3,4,5],\n",
        "\t\t\t\t            ['d',4,6]])\n",
        "# [a] method .info()\n",
        "print(\"[1] method .info()\")\n",
        "print(___)\n",
        "# [b] attribute .shape\n",
        "print(\"\\n[2] attribute .shape\")\n",
        "print(\"    Shape dari number_list:\", ___)\n",
        "print(\"    Shape dari matrix_list:\", ___)\n",
        "# [c] attribute .dtypes\n",
        "print(\"\\n[3] attribute .dtypes\")\n",
        "print(\"    Tipe data number_list:\", ___)\n",
        "print(\"    Tipe data matrix_list:\", ___)\n",
        "# [d] attribute .astype()\n",
        "print(\"\\n[4] method .astype()\")\n",
        "print(\"    Konversi number_list ke str:\", ___)\n",
        "print(\"    Konversi matrix_list ke str:\", ___)"
      ],
      "metadata": {
        "id": "FwzJGWspTRUF"
      },
      "execution_count": null,
      "outputs": []
    },
    {
      "cell_type": "markdown",
      "source": [
        "### **e. Attribute .copy()**\n",
        "\n",
        "Attribute *.copy()* digunakan melakukan duplikat, untuk disimpan di variable yang berbeda mungkin supaya tidak loading data lagi.\n",
        "\n",
        "\n",
        "```python\n",
        "print(\"[5] attribute .copy()\")\n",
        "num_list = number_list.copy()\n",
        "print(\"    Copy number_list ke num_list:\", num_list)\n",
        "mtr_list = matrix_list.copy()\n",
        "print(\"    Copy matrix_list ke mtr_list:\", matx_list)\n",
        "```\n",
        "\n",
        "\n",
        "\n",
        "### **f. Attribute .to_list()**\n",
        "\n",
        "Attribute .to_list() digunakan untuk mengubah series menjadi list dan tidak dapat digunakan untuk dataframe.\n",
        "\n",
        "```python\n",
        "print(\"[6] attribute .to_list()\")\n",
        "print(number_list.to_list())\n",
        "```\n",
        "\n",
        "### **g. Attribute .unique()**\n",
        "\n",
        "Attribute .unique() digunakan menghasilkan nilai unik dari suatu kolom, hasilnya dalam bentuk numpy array. Attribute ini hanya digunakan pada series saja.\n",
        "\n",
        "```python\n",
        "print(\"[7] attribute .unique()\")\n",
        "print(number_list.unique())\n",
        "```\n",
        "\n",
        "**Tugas praktek:**\n",
        "\n",
        "Pada cell editor terlihat kode-kode yang tidak lengkap. Tugas sekarang adalah mengganti tanda _ _ _ di code editor dengan yang sesuai seperti yang diberikan pada contoh di atas.\n",
        "\n"
      ],
      "metadata": {
        "id": "lU8-yn5fXCWZ"
      }
    },
    {
      "cell_type": "code",
      "source": [
        "import pandas as pd\n",
        "# Series\n",
        "number_list = pd.Series([1,2,3,4,5,6])\n",
        "# DataFrame\n",
        "matrix_list = pd.DataFrame([[1,2,3],\n",
        "\t\t\t\t            ['a','b','c'],\n",
        "\t\t\t\t            [3,4,5],\n",
        "\t\t\t\t            ['d',4,6]])\n",
        "# [e] attribute .copy()\n",
        "print(\"[5] attribute .copy()\")\n",
        "num_list = ___\n",
        "print(\"    Copy number_list ke num_list:\", ___)\n",
        "mtr_list = ___\n",
        "print(\"    Copy matrix_list ke mtr_list:\", ___)\n",
        "# [f] attribute .to_list()\n",
        "print(\"[6] attribute .to_list()\")\n",
        "print(___)\n",
        "# [g] attribute .unique()\n",
        "print(\"[7] attribute .unique()\")\n",
        "print(___)"
      ],
      "metadata": {
        "id": "DI2WWShEY6YW"
      },
      "execution_count": null,
      "outputs": []
    },
    {
      "cell_type": "markdown",
      "source": [
        "### **h. Attribute .index**\n",
        "\n",
        "Attribute .index digunakan untuk mencari index/key dari Series atau Dataframe.\n",
        "```python\n",
        "print(\"    Index number_list:\", number_list.index)\n",
        "print(\"    Index matrix_list:\", matrix_list.index)\n",
        "```\n",
        "\n",
        "### **i. Attribute .columns**\n",
        "\n",
        "Attribute .columns digunakan untuk mengetahui apa saja kolom yang tersedia di dataframe tersebut (hanya digunakan untuk dataframe saja).\n",
        "```python\n",
        "print(\"    Column matrix_list:\", matrix_list.columns)\n",
        "```\n",
        "\n",
        "### **j. Attribute .loc**\n",
        "\n",
        "Attribute .loc digunakan slice dataframe atau series berdasarkan nama kolom dan/atau nama index.\n",
        "\n",
        "```python\n",
        "print(\"    .loc[0:1] pada number_list:\", number_list.loc[0:1])\n",
        "print(\"    .loc[0:1] pada matrix_list:\", matrix_list.loc[0:1])\n",
        "```\n",
        "\n",
        "### **k. Attribute .iloc**\n",
        "\n",
        "Attribute .iloc digunakan untuk slice dataframe atau series berdasarkan index kolom dan/atau index.\n",
        "```python\n",
        "print(\"    iloc[0:1] pada number_list:\", number_list.iloc)\n",
        "print(\"    iloc[0:1] pada matrix_list:\", matrix_list.iloc)\n",
        "```\n",
        "\n",
        "### **Tugas praktek:**\n",
        "\n",
        "Pada cell editor dibawah ini terdapat kode-kode yang tidak lengkap. Tugas sekarang adalah mengganti tanda _ _ _ di code editor dengan yang sesuai seperti yang diberikan pada contoh di atas."
      ],
      "metadata": {
        "id": "I3I5Td_RcAd3"
      }
    },
    {
      "cell_type": "code",
      "source": [
        "import pandas as pd\n",
        "# Series\n",
        "number_list = pd.Series([1,2,3,4,5,6])\n",
        "# DataFrame\n",
        "matrix_list = pd.DataFrame([[1,2,3],\n",
        "\t\t\t\t            ['a','b','c'],\n",
        "\t\t\t\t            [3,4,5],\n",
        "\t\t\t\t            ['d',4,6]])\n",
        "# [h] attribute .index\n",
        "print(\"[h] attribute .index\")\n",
        "print(\"    Index number_list:\", ___)\n",
        "print(\"    Index matrix_list:\", ___)\n",
        "# [i] attribute .columns\n",
        "print(\"[i] attribute .columns\")\n",
        "print(\"    Column matrix_list:\", ___)\n",
        "# [j] attribute .loc\n",
        "print(\"[j] attribute .loc\")\n",
        "print(\"    .loc[0:1] pada number_list:\", ___)\n",
        "print(\"    .loc[0:1] pada matrix_list:\", ___)\n",
        "# [k] attribute .iloc\n",
        "print(\"[k] attribute .iloc\")\n",
        "print(\"    iloc[0:1] pada number_list:\", ___)\n",
        "print(\"    iloc[0:1] pada matrix_list:\", ___)"
      ],
      "metadata": {
        "id": "N-EvxAv_cPQ3"
      },
      "execution_count": null,
      "outputs": []
    },
    {
      "cell_type": "markdown",
      "source": [
        "## **4. Creating Series & Dataframe from List**\n",
        "Untuk membuat Series atau *Dataframe* bisa dari berbagai macam tipe data *container/mapping* di python, seperti list dan dictionary, maupun dari *numpy array*.\n",
        "\n",
        "Pada sub bagian ini, kamu akan membuat Series dan Dataframe yang bersumber dari list. Sekadar meninjau bahwa list merupakan sebuah kumpulan data berbagai macam tipe data yang mutable (dapat diganti).\n",
        "\n",
        "**Series**\n",
        "\n",
        "Contoh membuat series dari list:\n",
        "\n",
        "```python\n",
        "ex_list = ['a',1,3,5,'c','d']\n",
        "ex_series = pd.Series(ex_list)\n",
        "print(ex_series)\n",
        "```\n",
        "\n",
        "\n",
        "**DataFrame**\n",
        "\n",
        "Contoh membuat dataframe dari *list of list*:\n",
        "\n",
        "```python\n",
        "ex_list_of_list = [[1,'a','b','c'],\n",
        "                   [2.5,'d','e','f'],\n",
        "\t\t           [5,'g','h','i'],\n",
        "\t\t           [7.5,'j',10.5,'l']]\n",
        "index = ['era','lab','kar','lan']\n",
        "cols = ['float','char','obj','char']\n",
        "ex_df = pd.DataFrame(ex_list_of_list, index=index, columns=cols)\n",
        "print(ex_df)\n",
        "```\n",
        "\n",
        "### **Tugas praktek:**\n",
        "\n",
        "Pada cell editor dibawah ini terdapat kode-kode yang tidak lengkap. Tugas sekarang adalah mengganti tanda _ _ _ di code editor dengan yang sesuai seperti yang diberikan pada contoh di atas.\n",
        "\n"
      ],
      "metadata": {
        "id": "wTJdC52QrRgk"
      }
    },
    {
      "cell_type": "code",
      "source": [
        "import pandas as pd\n",
        "# Creating series from list\n",
        "ex_list = ['a',1,3,5,'c','d']\n",
        "ex_series = pd.___(___)\n",
        "print(___)\n",
        "# Creating dataframe from list of list\n",
        "ex_list_of_list = [[___],\n",
        "                   [___],\n",
        "\t\t           [___],\n",
        "\t\t           [___]]\n",
        "index = [___]\n",
        "cols = [___]\n",
        "ex_df = pd.___(___, index=___, columns=___)\n",
        "print(___)"
      ],
      "metadata": {
        "id": "W_rGUeVdr68S"
      },
      "execution_count": null,
      "outputs": []
    },
    {
      "cell_type": "markdown",
      "source": [
        "## **Mebuat data Series & Dataframe dari Dictionary**\n",
        "\n",
        "Untuk membuat Series atau Dataframe bisa dari berbagai macam tipe data container/mapping di python, seperti *list *dan *dictionary*, maupun dari *numpy array*.\n",
        "\n",
        "\n",
        "\n",
        "Pada sub bagian ini, akan membuat Series dan Dataframe yang bersumber dari dictionary. Sekadar meninjau bahwa, dictionary merupakan kumpulan data yang strukturnya terdiri dari key dan value.\n",
        "\n",
        "**Series**\n",
        "\n",
        "Contoh membuat series dari dictionary:\n",
        "```python\n",
        "dict_series = {'1':'a',\n",
        "\t\t\t   '2':'b',\n",
        "\t\t\t   '3':'c'}\n",
        "ex_series = pd.Series(dict_series)\n",
        "print(ex_series)\n",
        "```\n",
        "\n",
        "\n",
        "**DataFrame**\n",
        "\n",
        "Contoh membuat dataframe dari dict dengan setiap pasangan key dan value-nya berisi list yang sama panjangnya:\n",
        "\n",
        "\n",
        "```python\n",
        "df_series = {'1':['a', 'b', 'c'],\n",
        "\t\t\t '2':['b', 'c', 'd'],\n",
        "\t\t\t '3':[2, 3, 'z']}\n",
        "ex_df = pd.DataFrame(df_series)\n",
        "print(ex_df)\n",
        "```\n",
        "### **Tugas praktek:**\n",
        "\n",
        "Pada cell editor dibawah ini terdapat kode-kode yang tidak lengkap. Tugas sekarang adalah mengganti tanda _ _ _ di code editor dengan yang sesuai seperti yang diberikan pada contoh di atas.\n"
      ],
      "metadata": {
        "id": "vTDE8CGfvU6W"
      }
    },
    {
      "cell_type": "code",
      "source": [
        "import pandas as pd\n",
        "# Creating series from dictionary\n",
        "dict_series = {___,\n",
        "\t\t\t   ___,\n",
        "\t\t\t   ___}\n",
        "ex_series = pd.___(___)\n",
        "print(___)\n",
        "# Creating dataframe from dictionary\n",
        "df_series = {___,\n",
        "             ___,\n",
        "             ___}\n",
        "ex_df = pd.___(___)\n",
        "print(___)"
      ],
      "metadata": {
        "id": "QNZy18Dgx1jI"
      },
      "execution_count": null,
      "outputs": []
    },
    {
      "cell_type": "markdown",
      "source": [
        "## **Membuat Data Series & Dataframe Dari Numpy Array**\n",
        "Untuk membuat Series atau Dataframe bisa dari berbagai macam tipe data container/mapping di python, seperti list dan dictionary, maupun dari numpy array.\n",
        "\n",
        "\n",
        "\n",
        "Pada sub bagian ini, akan membuat Series dan Dataframe yang bersumber dari numpy array. Sekadar meninjau bahwa, numpy array kumpulan data yang terdiri atas berbagai macam tipe data, mutable, tapi dibungkus dalam array oleh library Numpy.\n",
        "\n",
        "**Series**\n",
        "\n",
        "Contoh membuat series dari numpy array 1D:\n",
        "\n",
        "\n",
        "```python\n",
        "# Creating series from numpy array (1D)\n",
        "arr_series = np.array([1,2,3,4,5,6,6,7])\n",
        "ex_series = pd.Series(arr_series)\n",
        "print(ex_series)\n",
        "```\n",
        "\n",
        "**DataFrame**\n",
        "\n",
        "Contoh membuat dataframe dari numpy array 2D:\n",
        "\n",
        "```python\n",
        "arr_df = np.array([[1,2,3,5],\n",
        "                   [5,6,7,8],\n",
        "                   ['a','b','c',10]])\n",
        "ex_df = pd.DataFrame(arr_df )\n",
        "print(ex_df)\n",
        "\n",
        "```\n",
        "\n",
        "\n",
        "**Tugas praktek:**\n",
        "\n",
        "ada cell editor dibawah ini terdapat kode-kode yang tidak lengkap. Tugas sekarang adalah mengganti tanda _ _ _ di code editor dengan yang sesuai seperti yang diberikan pada contoh di atas."
      ],
      "metadata": {
        "id": "oWdnENLPynaR"
      }
    },
    {
      "cell_type": "code",
      "source": [
        "\n",
        "# Creating series from numpy array (1D)\n",
        "arr_series = np.___(___)\n",
        "ex_series = pd.___(___)\n",
        "print(___)\n",
        "# Creating dataframe from numpy array (2D)\n",
        "arr_df = np.array([[___],\n",
        "                   [___],\n",
        "                   [___]])\n",
        "ex_df = pd.___(___)\n",
        "print(___)"
      ],
      "metadata": {
        "id": "gq8-auFEzNBv"
      },
      "execution_count": null,
      "outputs": []
    },
    {
      "cell_type": "markdown",
      "source": [
        "**Tugas praktek:**\n",
        "\n",
        "pada cell editor dibawah ini terdapat kode-kode yang tidak lengkap.\n",
        "Lakukan perbaikan agar bisa menampilkan hasil dari fungsi *matrix_list.iloc[0:2,2].to_list()*"
      ],
      "metadata": {
        "id": "dD5RFHyQ4rDk"
      }
    },
    {
      "cell_type": "code",
      "source": [
        "matrix = [[1,2,3],\n",
        "          ['a','b','c'],\n",
        "          [3,4,5],\n",
        "          ['d',4,6]]\n",
        "\n",
        "\n",
        "matrix_list.iloc[0:2,2].to_list()"
      ],
      "metadata": {
        "id": "QT62urM24rrf"
      },
      "execution_count": null,
      "outputs": []
    }
  ]
}
