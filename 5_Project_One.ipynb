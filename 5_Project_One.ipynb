{
  "nbformat": 4,
  "nbformat_minor": 0,
  "metadata": {
    "colab": {
      "provenance": []
    },
    "kernelspec": {
      "name": "python3",
      "display_name": "Python 3"
    },
    "language_info": {
      "name": "python"
    }
  },
  "cells": [
    {
      "cell_type": "code",
      "execution_count": null,
      "metadata": {
        "id": "OaaICLak6dqV"
      },
      "outputs": [],
      "source": []
    },
    {
      "cell_type": "markdown",
      "source": [
        "# **F. Project One (Proses ETL)**\n",
        "\n",
        "Pada bagian kita akan mengerjakan sebuah mini project untuk melakukan proses ETL dari Bigdata"
      ],
      "metadata": {
        "id": "iKvmGHTI6uOb"
      }
    }
  ]
}